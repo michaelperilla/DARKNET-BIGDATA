{
  "nbformat": 4,
  "nbformat_minor": 0,
  "metadata": {
    "colab": {
      "provenance": [],
      "authorship_tag": "ABX9TyNjJat9mCZR6hE/1L1kQBU1",
      "include_colab_link": true
    },
    "kernelspec": {
      "name": "python3",
      "display_name": "Python 3"
    },
    "language_info": {
      "name": "python"
    }
  },
  "cells": [
    {
      "cell_type": "markdown",
      "metadata": {
        "id": "view-in-github",
        "colab_type": "text"
      },
      "source": [
        "<a href=\"https://colab.research.google.com/github/michaelperilla/DARKNET-BIGDATA/blob/main/Untitled2.ipynb\" target=\"_parent\"><img src=\"https://colab.research.google.com/assets/colab-badge.svg\" alt=\"Open In Colab\"/></a>"
      ]
    },
    {
      "cell_type": "code",
      "execution_count": null,
      "metadata": {
        "colab": {
          "base_uri": "https://localhost:8080/"
        },
        "id": "tIl8ic0dTtXv",
        "outputId": "9a0419c3-d1d4-4891-e4fe-9b17c1375b0f"
      },
      "outputs": [
        {
          "output_type": "stream",
          "name": "stdout",
          "text": [
            "                                           Flow ID          Src IP  Src Port  \\\n",
            "0          10.152.152.11-216.58.220.99-57158-443-6   10.152.152.11     57158   \n",
            "1          10.152.152.11-216.58.220.99-57159-443-6   10.152.152.11     57159   \n",
            "2          10.152.152.11-216.58.220.99-57160-443-6   10.152.152.11     57160   \n",
            "3         10.152.152.11-74.125.136.120-49134-443-6   10.152.152.11     49134   \n",
            "4       10.152.152.11-173.194.65.127-34697-19305-6   10.152.152.11     34697   \n",
            "...                                            ...             ...       ...   \n",
            "158611        10.8.8.246-224.0.0.252-55219-5355-17      10.8.8.246     55219   \n",
            "158612        10.8.8.246-224.0.0.252-64207-5355-17      10.8.8.246     64207   \n",
            "158613        10.8.8.246-224.0.0.252-61115-5355-17      10.8.8.246     61115   \n",
            "158614        10.8.8.246-224.0.0.252-64790-5355-17      10.8.8.246     64790   \n",
            "158615    80.239.235.110-10.8.8.246-11666-60245-17  80.239.235.110     11666   \n",
            "\n",
            "                Dst IP  Dst Port  Protocol               Timestamp  \\\n",
            "0        216.58.220.99       443         6  24/07/2015 04:09:48 PM   \n",
            "1        216.58.220.99       443         6  24/07/2015 04:09:48 PM   \n",
            "2        216.58.220.99       443         6  24/07/2015 04:09:48 PM   \n",
            "3       74.125.136.120       443         6  24/07/2015 04:09:48 PM   \n",
            "4       173.194.65.127     19305         6  24/07/2015 04:09:45 PM   \n",
            "...                ...       ...       ...                     ...   \n",
            "158611     224.0.0.252      5355        17  22/05/2015 01:55:03 PM   \n",
            "158612     224.0.0.252      5355        17  22/05/2015 02:09:05 PM   \n",
            "158613     224.0.0.252      5355        17  22/05/2015 02:19:31 PM   \n",
            "158614     224.0.0.252      5355        17  22/05/2015 02:29:55 PM   \n",
            "158615      10.8.8.246     60245        17  22/05/2015 02:31:23 PM   \n",
            "\n",
            "        Flow Duration  Total Fwd Packet  Total Bwd packets  ...  Active Mean  \\\n",
            "0                 229                 1                  1  ...            0   \n",
            "1                 407                 1                  1  ...            0   \n",
            "2                 431                 1                  1  ...            0   \n",
            "3                 359                 1                  1  ...            0   \n",
            "4            10778451               591                400  ...            0   \n",
            "...               ...               ...                ...  ...          ...   \n",
            "158611         411806                 2                  0  ...            0   \n",
            "158612         411574                 2                  0  ...            0   \n",
            "158613         422299                 2                  0  ...            0   \n",
            "158614         411855                 2                  0  ...            0   \n",
            "158615      119990044              5995               6000  ...            0   \n",
            "\n",
            "        Active Std  Active Max  Active Min     Idle Mean      Idle Std  \\\n",
            "0                0           0           0  0.000000e+00  0.000000e+00   \n",
            "1                0           0           0  0.000000e+00  0.000000e+00   \n",
            "2                0           0           0  0.000000e+00  0.000000e+00   \n",
            "3                0           0           0  0.000000e+00  0.000000e+00   \n",
            "4                0           0           0  1.437765e+15  3.117718e+06   \n",
            "...            ...         ...         ...           ...           ...   \n",
            "158611           0           0           0  0.000000e+00  0.000000e+00   \n",
            "158612           0           0           0  0.000000e+00  0.000000e+00   \n",
            "158613           0           0           0  0.000000e+00  0.000000e+00   \n",
            "158614           0           0           0  0.000000e+00  0.000000e+00   \n",
            "158615           0           0           0  1.432316e+15  3.463689e+07   \n",
            "\n",
            "            Idle Max      Idle Min    Label          Label.1  \n",
            "0       0.000000e+00  0.000000e+00  Non-Tor  AUDIO-STREAMING  \n",
            "1       0.000000e+00  0.000000e+00  Non-Tor  AUDIO-STREAMING  \n",
            "2       0.000000e+00  0.000000e+00  Non-Tor  AUDIO-STREAMING  \n",
            "3       0.000000e+00  0.000000e+00  Non-Tor  AUDIO-STREAMING  \n",
            "4       1.437765e+15  1.437765e+15  Non-Tor  AUDIO-STREAMING  \n",
            "...              ...           ...      ...              ...  \n",
            "158611  0.000000e+00  0.000000e+00      VPN             VOIP  \n",
            "158612  0.000000e+00  0.000000e+00      VPN             VOIP  \n",
            "158613  0.000000e+00  0.000000e+00      VPN             VOIP  \n",
            "158614  0.000000e+00  0.000000e+00      VPN             VOIP  \n",
            "158615  1.432316e+15  1.432316e+15      VPN             VOIP  \n",
            "\n",
            "[158616 rows x 85 columns]\n"
          ]
        }
      ],
      "source": [
        "sdwimport pandas as pd\n",
        "\n",
        "# Cargar el archivo CSV\n",
        "data = '/content/drive/MyDrive/Colab Notebooks/Darknet.csv'\n",
        "\n",
        "\n",
        "# Leer el CSV\n",
        "df = pd.read_csv(data)\n",
        "\n",
        "print(df)"
      ]
    },
    {
      "cell_type": "code",
      "source": [
        "from google.colab import drive\n",
        "drive.mount('/content/drive')"
      ],
      "metadata": {
        "colab": {
          "base_uri": "https://localhost:8080/"
        },
        "id": "ZJwJRNhiT8-X",
        "outputId": "0b180c39-df9c-4f2a-df26-cbf88e39da2a"
      },
      "execution_count": 7,
      "outputs": [
        {
          "output_type": "stream",
          "name": "stdout",
          "text": [
            "Mounted at /content/drive\n"
          ]
        }
      ]
    },
    {
      "cell_type": "code",
      "source": [
        "import pandas as pd  # Importación correcta\n",
        "\n",
        "# Cargar el archivo CSV\n",
        "with open(\"darknet.csv\", \"r\") as file:\n",
        "    df = pd.read_csv(file)\n",
        "\n",
        "# Mostrar las columnas para verificar los datos\n",
        "print(df.columns)\n",
        "\n",
        "# Si quieres filtrar filas donde una columna contiene \"jairo\", ajusta el nombre de la columna correcta\n",
        "columna_filtrar = \"nombre_columna\"  # Reemplaza con el nombre real\n",
        "if columna_filtrar in df.columns:\n",
        "    df2 = df[df[columna_filtrar].str.contains(\"jairo\", na=False, case=False)]\n",
        "    print(df2)\n",
        "else:\n",
        "    print(f\"La columna '{columna_filtrar}' no existe en el archivo.\")\n"
      ],
      "metadata": {
        "colab": {
          "base_uri": "https://localhost:8080/",
          "height": 211
        },
        "id": "jOxu78Qc9svB",
        "outputId": "8c5ca6c5-9f9d-4de7-b207-7dd22cb112b4"
      },
      "execution_count": 8,
      "outputs": [
        {
          "output_type": "error",
          "ename": "FileNotFoundError",
          "evalue": "[Errno 2] No such file or directory: 'darknet.csv'",
          "traceback": [
            "\u001b[0;31m---------------------------------------------------------------------------\u001b[0m",
            "\u001b[0;31mFileNotFoundError\u001b[0m                         Traceback (most recent call last)",
            "\u001b[0;32m<ipython-input-8-052b43921b5f>\u001b[0m in \u001b[0;36m<cell line: 0>\u001b[0;34m()\u001b[0m\n\u001b[1;32m      2\u001b[0m \u001b[0;34m\u001b[0m\u001b[0m\n\u001b[1;32m      3\u001b[0m \u001b[0;31m# Cargar el archivo CSV\u001b[0m\u001b[0;34m\u001b[0m\u001b[0;34m\u001b[0m\u001b[0m\n\u001b[0;32m----> 4\u001b[0;31m \u001b[0;32mwith\u001b[0m \u001b[0mopen\u001b[0m\u001b[0;34m(\u001b[0m\u001b[0;34m\"darknet.csv\"\u001b[0m\u001b[0;34m,\u001b[0m \u001b[0;34m\"r\"\u001b[0m\u001b[0;34m)\u001b[0m \u001b[0;32mas\u001b[0m \u001b[0mfile\u001b[0m\u001b[0;34m:\u001b[0m\u001b[0;34m\u001b[0m\u001b[0;34m\u001b[0m\u001b[0m\n\u001b[0m\u001b[1;32m      5\u001b[0m     \u001b[0mdf\u001b[0m \u001b[0;34m=\u001b[0m \u001b[0mpd\u001b[0m\u001b[0;34m.\u001b[0m\u001b[0mread_csv\u001b[0m\u001b[0;34m(\u001b[0m\u001b[0mfile\u001b[0m\u001b[0;34m)\u001b[0m\u001b[0;34m\u001b[0m\u001b[0;34m\u001b[0m\u001b[0m\n\u001b[1;32m      6\u001b[0m \u001b[0;34m\u001b[0m\u001b[0m\n",
            "\u001b[0;31mFileNotFoundError\u001b[0m: [Errno 2] No such file or directory: 'darknet.csv'"
          ]
        }
      ]
    },
    {
      "cell_type": "code",
      "source": [
        "df2 = pd.read_csv(\"Darknet.csv\")\n",
        "\n",
        "# Convertir la columna de timestamp a datetime\n",
        "df2[\"Timestamp\"] = pd.to_datetime(df2[\"Timestamp\"])  # Asegúrate de que el nombre de la columna es correcto\n",
        "\n",
        "# Mostrar las columnas para verificar\n",
        "print(df2.columns)\n",
        "\n",
        "# Guardar el nuevo CSV\n",
        "df2.to_csv(\"Darknet2.csv\", index=False)\n",
        "\n"
      ],
      "metadata": {
        "colab": {
          "base_uri": "https://localhost:8080/",
          "height": 356
        },
        "id": "4z49DatS_H1q",
        "outputId": "29435645-c3e3-4c77-ecfa-a9405e243c8a"
      },
      "execution_count": 9,
      "outputs": [
        {
          "output_type": "error",
          "ename": "FileNotFoundError",
          "evalue": "[Errno 2] No such file or directory: 'Darknet.csv'",
          "traceback": [
            "\u001b[0;31m---------------------------------------------------------------------------\u001b[0m",
            "\u001b[0;31mFileNotFoundError\u001b[0m                         Traceback (most recent call last)",
            "\u001b[0;32m<ipython-input-9-557352022991>\u001b[0m in \u001b[0;36m<cell line: 0>\u001b[0;34m()\u001b[0m\n\u001b[0;32m----> 1\u001b[0;31m \u001b[0mdf2\u001b[0m \u001b[0;34m=\u001b[0m \u001b[0mpd\u001b[0m\u001b[0;34m.\u001b[0m\u001b[0mread_csv\u001b[0m\u001b[0;34m(\u001b[0m\u001b[0;34m\"Darknet.csv\"\u001b[0m\u001b[0;34m)\u001b[0m\u001b[0;34m\u001b[0m\u001b[0;34m\u001b[0m\u001b[0m\n\u001b[0m\u001b[1;32m      2\u001b[0m \u001b[0;34m\u001b[0m\u001b[0m\n\u001b[1;32m      3\u001b[0m \u001b[0;31m# Convertir la columna de timestamp a datetime\u001b[0m\u001b[0;34m\u001b[0m\u001b[0;34m\u001b[0m\u001b[0m\n\u001b[1;32m      4\u001b[0m \u001b[0mdf2\u001b[0m\u001b[0;34m[\u001b[0m\u001b[0;34m\"Timestamp\"\u001b[0m\u001b[0;34m]\u001b[0m \u001b[0;34m=\u001b[0m \u001b[0mpd\u001b[0m\u001b[0;34m.\u001b[0m\u001b[0mto_datetime\u001b[0m\u001b[0;34m(\u001b[0m\u001b[0mdf2\u001b[0m\u001b[0;34m[\u001b[0m\u001b[0;34m\"Timestamp\"\u001b[0m\u001b[0;34m]\u001b[0m\u001b[0;34m)\u001b[0m  \u001b[0;31m# Asegúrate de que el nombre de la columna es correcto\u001b[0m\u001b[0;34m\u001b[0m\u001b[0;34m\u001b[0m\u001b[0m\n\u001b[1;32m      5\u001b[0m \u001b[0;34m\u001b[0m\u001b[0m\n",
            "\u001b[0;32m/usr/local/lib/python3.11/dist-packages/pandas/io/parsers/readers.py\u001b[0m in \u001b[0;36mread_csv\u001b[0;34m(filepath_or_buffer, sep, delimiter, header, names, index_col, usecols, dtype, engine, converters, true_values, false_values, skipinitialspace, skiprows, skipfooter, nrows, na_values, keep_default_na, na_filter, verbose, skip_blank_lines, parse_dates, infer_datetime_format, keep_date_col, date_parser, date_format, dayfirst, cache_dates, iterator, chunksize, compression, thousands, decimal, lineterminator, quotechar, quoting, doublequote, escapechar, comment, encoding, encoding_errors, dialect, on_bad_lines, delim_whitespace, low_memory, memory_map, float_precision, storage_options, dtype_backend)\u001b[0m\n\u001b[1;32m   1024\u001b[0m     \u001b[0mkwds\u001b[0m\u001b[0;34m.\u001b[0m\u001b[0mupdate\u001b[0m\u001b[0;34m(\u001b[0m\u001b[0mkwds_defaults\u001b[0m\u001b[0;34m)\u001b[0m\u001b[0;34m\u001b[0m\u001b[0;34m\u001b[0m\u001b[0m\n\u001b[1;32m   1025\u001b[0m \u001b[0;34m\u001b[0m\u001b[0m\n\u001b[0;32m-> 1026\u001b[0;31m     \u001b[0;32mreturn\u001b[0m \u001b[0m_read\u001b[0m\u001b[0;34m(\u001b[0m\u001b[0mfilepath_or_buffer\u001b[0m\u001b[0;34m,\u001b[0m \u001b[0mkwds\u001b[0m\u001b[0;34m)\u001b[0m\u001b[0;34m\u001b[0m\u001b[0;34m\u001b[0m\u001b[0m\n\u001b[0m\u001b[1;32m   1027\u001b[0m \u001b[0;34m\u001b[0m\u001b[0m\n\u001b[1;32m   1028\u001b[0m \u001b[0;34m\u001b[0m\u001b[0m\n",
            "\u001b[0;32m/usr/local/lib/python3.11/dist-packages/pandas/io/parsers/readers.py\u001b[0m in \u001b[0;36m_read\u001b[0;34m(filepath_or_buffer, kwds)\u001b[0m\n\u001b[1;32m    618\u001b[0m \u001b[0;34m\u001b[0m\u001b[0m\n\u001b[1;32m    619\u001b[0m     \u001b[0;31m# Create the parser.\u001b[0m\u001b[0;34m\u001b[0m\u001b[0;34m\u001b[0m\u001b[0m\n\u001b[0;32m--> 620\u001b[0;31m     \u001b[0mparser\u001b[0m \u001b[0;34m=\u001b[0m \u001b[0mTextFileReader\u001b[0m\u001b[0;34m(\u001b[0m\u001b[0mfilepath_or_buffer\u001b[0m\u001b[0;34m,\u001b[0m \u001b[0;34m**\u001b[0m\u001b[0mkwds\u001b[0m\u001b[0;34m)\u001b[0m\u001b[0;34m\u001b[0m\u001b[0;34m\u001b[0m\u001b[0m\n\u001b[0m\u001b[1;32m    621\u001b[0m \u001b[0;34m\u001b[0m\u001b[0m\n\u001b[1;32m    622\u001b[0m     \u001b[0;32mif\u001b[0m \u001b[0mchunksize\u001b[0m \u001b[0;32mor\u001b[0m \u001b[0miterator\u001b[0m\u001b[0;34m:\u001b[0m\u001b[0;34m\u001b[0m\u001b[0;34m\u001b[0m\u001b[0m\n",
            "\u001b[0;32m/usr/local/lib/python3.11/dist-packages/pandas/io/parsers/readers.py\u001b[0m in \u001b[0;36m__init__\u001b[0;34m(self, f, engine, **kwds)\u001b[0m\n\u001b[1;32m   1618\u001b[0m \u001b[0;34m\u001b[0m\u001b[0m\n\u001b[1;32m   1619\u001b[0m         \u001b[0mself\u001b[0m\u001b[0;34m.\u001b[0m\u001b[0mhandles\u001b[0m\u001b[0;34m:\u001b[0m \u001b[0mIOHandles\u001b[0m \u001b[0;34m|\u001b[0m \u001b[0;32mNone\u001b[0m \u001b[0;34m=\u001b[0m \u001b[0;32mNone\u001b[0m\u001b[0;34m\u001b[0m\u001b[0;34m\u001b[0m\u001b[0m\n\u001b[0;32m-> 1620\u001b[0;31m         \u001b[0mself\u001b[0m\u001b[0;34m.\u001b[0m\u001b[0m_engine\u001b[0m \u001b[0;34m=\u001b[0m \u001b[0mself\u001b[0m\u001b[0;34m.\u001b[0m\u001b[0m_make_engine\u001b[0m\u001b[0;34m(\u001b[0m\u001b[0mf\u001b[0m\u001b[0;34m,\u001b[0m \u001b[0mself\u001b[0m\u001b[0;34m.\u001b[0m\u001b[0mengine\u001b[0m\u001b[0;34m)\u001b[0m\u001b[0;34m\u001b[0m\u001b[0;34m\u001b[0m\u001b[0m\n\u001b[0m\u001b[1;32m   1621\u001b[0m \u001b[0;34m\u001b[0m\u001b[0m\n\u001b[1;32m   1622\u001b[0m     \u001b[0;32mdef\u001b[0m \u001b[0mclose\u001b[0m\u001b[0;34m(\u001b[0m\u001b[0mself\u001b[0m\u001b[0;34m)\u001b[0m \u001b[0;34m->\u001b[0m \u001b[0;32mNone\u001b[0m\u001b[0;34m:\u001b[0m\u001b[0;34m\u001b[0m\u001b[0;34m\u001b[0m\u001b[0m\n",
            "\u001b[0;32m/usr/local/lib/python3.11/dist-packages/pandas/io/parsers/readers.py\u001b[0m in \u001b[0;36m_make_engine\u001b[0;34m(self, f, engine)\u001b[0m\n\u001b[1;32m   1878\u001b[0m                 \u001b[0;32mif\u001b[0m \u001b[0;34m\"b\"\u001b[0m \u001b[0;32mnot\u001b[0m \u001b[0;32min\u001b[0m \u001b[0mmode\u001b[0m\u001b[0;34m:\u001b[0m\u001b[0;34m\u001b[0m\u001b[0;34m\u001b[0m\u001b[0m\n\u001b[1;32m   1879\u001b[0m                     \u001b[0mmode\u001b[0m \u001b[0;34m+=\u001b[0m \u001b[0;34m\"b\"\u001b[0m\u001b[0;34m\u001b[0m\u001b[0;34m\u001b[0m\u001b[0m\n\u001b[0;32m-> 1880\u001b[0;31m             self.handles = get_handle(\n\u001b[0m\u001b[1;32m   1881\u001b[0m                 \u001b[0mf\u001b[0m\u001b[0;34m,\u001b[0m\u001b[0;34m\u001b[0m\u001b[0;34m\u001b[0m\u001b[0m\n\u001b[1;32m   1882\u001b[0m                 \u001b[0mmode\u001b[0m\u001b[0;34m,\u001b[0m\u001b[0;34m\u001b[0m\u001b[0;34m\u001b[0m\u001b[0m\n",
            "\u001b[0;32m/usr/local/lib/python3.11/dist-packages/pandas/io/common.py\u001b[0m in \u001b[0;36mget_handle\u001b[0;34m(path_or_buf, mode, encoding, compression, memory_map, is_text, errors, storage_options)\u001b[0m\n\u001b[1;32m    871\u001b[0m         \u001b[0;32mif\u001b[0m \u001b[0mioargs\u001b[0m\u001b[0;34m.\u001b[0m\u001b[0mencoding\u001b[0m \u001b[0;32mand\u001b[0m \u001b[0;34m\"b\"\u001b[0m \u001b[0;32mnot\u001b[0m \u001b[0;32min\u001b[0m \u001b[0mioargs\u001b[0m\u001b[0;34m.\u001b[0m\u001b[0mmode\u001b[0m\u001b[0;34m:\u001b[0m\u001b[0;34m\u001b[0m\u001b[0;34m\u001b[0m\u001b[0m\n\u001b[1;32m    872\u001b[0m             \u001b[0;31m# Encoding\u001b[0m\u001b[0;34m\u001b[0m\u001b[0;34m\u001b[0m\u001b[0m\n\u001b[0;32m--> 873\u001b[0;31m             handle = open(\n\u001b[0m\u001b[1;32m    874\u001b[0m                 \u001b[0mhandle\u001b[0m\u001b[0;34m,\u001b[0m\u001b[0;34m\u001b[0m\u001b[0;34m\u001b[0m\u001b[0m\n\u001b[1;32m    875\u001b[0m                 \u001b[0mioargs\u001b[0m\u001b[0;34m.\u001b[0m\u001b[0mmode\u001b[0m\u001b[0;34m,\u001b[0m\u001b[0;34m\u001b[0m\u001b[0;34m\u001b[0m\u001b[0m\n",
            "\u001b[0;31mFileNotFoundError\u001b[0m: [Errno 2] No such file or directory: 'Darknet.csv'"
          ]
        }
      ]
    },
    {
      "cell_type": "code",
      "source": [],
      "metadata": {
        "id": "5ASZDCGR_wqx"
      },
      "execution_count": null,
      "outputs": []
    }
  ]
}